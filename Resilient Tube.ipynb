{
 "cells": [
  {
   "cell_type": "markdown",
   "metadata": {},
   "source": [
    "# Resilient Tube"
   ]
  },
  {
   "cell_type": "code",
   "execution_count": 9,
   "metadata": {
    "collapsed": true
   },
   "outputs": [],
   "source": [
    "from igraph import *\n",
    "import matplotlib.pyplot as plt\n",
    "import seaborn as sns\n",
    "import pandas as pd\n",
    "import numpy as np\n",
    "from scipy.spatial.distance import cdist"
   ]
  },
  {
   "cell_type": "code",
   "execution_count": 10,
   "metadata": {
    "collapsed": false
   },
   "outputs": [],
   "source": [
    "# Read local file and create edge list in tuple format \n",
    "df1 = pd.read_csv(\"Data/InputData_Edges.csv\")\n",
    "dfedge = df1[['From (RODS name)', 'To (RODS name)', 'Name']]\n",
    "tuples = [tuple(x) for x in dfedge.values]"
   ]
  },
  {
   "cell_type": "code",
   "execution_count": 11,
   "metadata": {
    "collapsed": false
   },
   "outputs": [
    {
     "data": {
      "text/plain": [
       "'IGRAPH DN-- 268 731 -- PTN London Underground\\n+ attr: name (g), name (v), line (e)'"
      ]
     },
     "execution_count": 11,
     "metadata": {},
     "output_type": "execute_result"
    }
   ],
   "source": [
    "# Create graph based on edge list from previous step\n",
    "ptn = Graph.TupleList(tuples, directed=True, vertex_name_attr=\"name\", edge_attrs=\"line\")\n",
    "ptn[\"name\"] = \"PTN London Underground\"\n",
    "ptn.summary()"
   ]
  },
  {
   "cell_type": "code",
   "execution_count": 24,
   "metadata": {
    "collapsed": false,
    "scrolled": true
   },
   "outputs": [
    {
     "data": {
      "text/plain": [
       "[igraph.Vertex(<igraph.Graph object at 0x108928318>, 0, {'name': 'Harrow & Wealdstone', 'NCL': 597, 'FloodRisk1000a': 0.1364, 'BetweenCent': 0.0, 'coords': [51.5925, -0.3351]}),\n",
       " igraph.Vertex(<igraph.Graph object at 0x108928318>, 1, {'name': 'Kenton', 'NCL': 620, 'FloodRisk1000a': 0.1935, 'BetweenCent': 532.0, 'coords': [51.5816, -0.3162]}),\n",
       " igraph.Vertex(<igraph.Graph object at 0x108928318>, 2, {'name': 'South Kenton', 'NCL': 709, 'FloodRisk1000a': 0.4833, 'BetweenCent': 1060.0, 'coords': [51.5701, -0.3081]}),\n",
       " igraph.Vertex(<igraph.Graph object at 0x108928318>, 3, {'name': 'North Wembley', 'NCL': 659, 'FloodRisk1000a': 0.2384, 'BetweenCent': 1584.0, 'coords': [51.5621, -0.3034]}),\n",
       " igraph.Vertex(<igraph.Graph object at 0x108928318>, 4, {'name': 'Wembley Central', 'NCL': 751, 'FloodRisk1000a': 0.0472, 'BetweenCent': 2104.0, 'coords': [51.5519, -0.2963]}),\n",
       " igraph.Vertex(<igraph.Graph object at 0x108928318>, 5, {'name': 'Stonebridge Park', 'NCL': 717, 'FloodRisk1000a': 0.2317, 'BetweenCent': 2620.0, 'coords': [51.5439, -0.2759]}),\n",
       " igraph.Vertex(<igraph.Graph object at 0x108928318>, 6, {'name': 'Harlesden', 'NCL': 596, 'FloodRisk1000a': 0.124, 'BetweenCent': 3132.0, 'coords': [51.5362, -0.2575]}),\n",
       " igraph.Vertex(<igraph.Graph object at 0x108928318>, 7, {'name': 'Willesden Junction', 'NCL': 766, 'FloodRisk1000a': 0.205, 'BetweenCent': 3640.0, 'coords': [51.5326, -0.2478]}),\n",
       " igraph.Vertex(<igraph.Graph object at 0x108928318>, 8, {'name': 'Kensal Green', 'NCL': 617, 'FloodRisk1000a': 0.0771, 'BetweenCent': 4144.0, 'coords': [51.5304, -0.225]}),\n",
       " igraph.Vertex(<igraph.Graph object at 0x108928318>, 9, {'name': \"Queen's Park\", 'NCL': 680, 'FloodRisk1000a': 0.1383, 'BetweenCent': 4644.0, 'coords': [51.5341, -0.2047]}),\n",
       " igraph.Vertex(<igraph.Graph object at 0x108928318>, 10, {'name': 'Kilburn Park', 'NCL': 623, 'FloodRisk1000a': 0.1799, 'BetweenCent': 5140.0, 'coords': [51.5351, -0.1939]}),\n",
       " igraph.Vertex(<igraph.Graph object at 0x108928318>, 11, {'name': 'Maida Vale', 'NCL': 637, 'FloodRisk1000a': 0.0714, 'BetweenCent': 5632.0, 'coords': [51.53, -0.1854]}),\n",
       " igraph.Vertex(<igraph.Graph object at 0x108928318>, 12, {'name': 'Warwick Avenue', 'NCL': 746, 'FloodRisk1000a': 0.1394, 'BetweenCent': 6120.0, 'coords': [51.5235, -0.1835]}),\n",
       " igraph.Vertex(<igraph.Graph object at 0x108928318>, 13, {'name': 'Paddington', 'NCL': 670, 'FloodRisk1000a': 0.0235, 'BetweenCent': 15971.913449601883, 'coords': [51.5154, -0.1755]}),\n",
       " igraph.Vertex(<igraph.Graph object at 0x108928318>, 14, {'name': 'Edgware Road (Bak)', 'NCL': 774, 'FloodRisk1000a': 0.0936, 'BetweenCent': 149.53939393939393, 'coords': [51.5199, -0.1679]}),\n",
       " igraph.Vertex(<igraph.Graph object at 0x108928318>, 15, {'name': 'Marylebone', 'NCL': 641, 'FloodRisk1000a': 0.0432, 'BetweenCent': 374.46060606060604, 'coords': [51.5225, -0.1631]}),\n",
       " igraph.Vertex(<igraph.Graph object at 0x108928318>, 16, {'name': 'Baker Street', 'NCL': 511, 'FloodRisk1000a': 0.1096, 'BetweenCent': 26672.54693274083, 'coords': [51.5226, -0.1571]}),\n",
       " igraph.Vertex(<igraph.Graph object at 0x108928318>, 17, {'name': \"Regent's Park\", 'NCL': 685, 'FloodRisk1000a': 0.0849, 'BetweenCent': 766.9940785246833, 'coords': [51.5234, -0.1466]}),\n",
       " igraph.Vertex(<igraph.Graph object at 0x108928318>, 18, {'name': 'Oxford Circus', 'NCL': 669, 'FloodRisk1000a': 0.0008, 'BetweenCent': 7419.711232037759, 'coords': [51.515, -0.1415]}),\n",
       " igraph.Vertex(<igraph.Graph object at 0x108928318>, 19, {'name': 'Piccadilly Circus', 'NCL': 674, 'FloodRisk1000a': 0.1898, 'BetweenCent': 828.4417862216683, 'coords': [51.5098, -0.1342]}),\n",
       " igraph.Vertex(<igraph.Graph object at 0x108928318>, 20, {'name': 'Charing Cross', 'NCL': 718, 'FloodRisk1000a': 0.0956, 'BetweenCent': 432.6612315101487, 'coords': [51.508, -0.1247]}),\n",
       " igraph.Vertex(<igraph.Graph object at 0x108928318>, 21, {'name': 'Embankment', 'NCL': 542, 'FloodRisk1000a': 0.0854, 'BetweenCent': 1567.5762464850588, 'coords': [51.5074, -0.1223]}),\n",
       " igraph.Vertex(<igraph.Graph object at 0x108928318>, 22, {'name': 'Waterloo', 'NCL': 747, 'FloodRisk1000a': 0.0209, 'BetweenCent': 19541.43500388434, 'coords': [51.5036, -0.1143]}),\n",
       " igraph.Vertex(<igraph.Graph object at 0x108928318>, 23, {'name': 'Lambeth North', 'NCL': 628, 'FloodRisk1000a': 0.0229, 'BetweenCent': 286.54494949494983, 'coords': [51.4991, -0.1115]}),\n",
       " igraph.Vertex(<igraph.Graph object at 0x108928318>, 24, {'name': 'Elephant & Castle', 'NCL': 570, 'FloodRisk1000a': 0.0472, 'BetweenCent': 243.54545454545448, 'coords': [51.4943, -0.1001]}),\n",
       " igraph.Vertex(<igraph.Graph object at 0x108928318>, 25, {'name': 'West Ruislip', 'NCL': 762, 'FloodRisk1000a': 0.0391, 'BetweenCent': 0.0, 'coords': [51.5696, -0.4376]}),\n",
       " igraph.Vertex(<igraph.Graph object at 0x108928318>, 26, {'name': 'Ruislip Gardens', 'NCL': 692, 'FloodRisk1000a': 0.2096, 'BetweenCent': 532.0, 'coords': [51.5606, -0.4103]}),\n",
       " igraph.Vertex(<igraph.Graph object at 0x108928318>, 27, {'name': 'South Ruislip', 'NCL': 710, 'FloodRisk1000a': 0.0577, 'BetweenCent': 1060.0, 'coords': [51.5569, -0.3988]}),\n",
       " igraph.Vertex(<igraph.Graph object at 0x108928318>, 28, {'name': 'Northolt', 'NCL': 657, 'FloodRisk1000a': 0.2433, 'BetweenCent': 1584.0, 'coords': [51.5483, -0.3687]}),\n",
       " igraph.Vertex(<igraph.Graph object at 0x108928318>, 29, {'name': 'Greenford', 'NCL': 589, 'FloodRisk1000a': 0.0416, 'BetweenCent': 2104.0, 'coords': [51.5423, -0.3456]}),\n",
       " igraph.Vertex(<igraph.Graph object at 0x108928318>, 30, {'name': 'Perivale', 'NCL': 673, 'FloodRisk1000a': 0.1192, 'BetweenCent': 2620.0, 'coords': [51.5366, -0.3232]}),\n",
       " igraph.Vertex(<igraph.Graph object at 0x108928318>, 31, {'name': 'Hanger Lane', 'NCL': 595, 'FloodRisk1000a': 0.0864, 'BetweenCent': 3132.0, 'coords': [51.5302, -0.2933]}),\n",
       " igraph.Vertex(<igraph.Graph object at 0x108928318>, 32, {'name': 'North Acton', 'NCL': 653, 'FloodRisk1000a': 0.0845, 'BetweenCent': 4013.9082613616442, 'coords': [51.5237, -0.2597]}),\n",
       " igraph.Vertex(<igraph.Graph object at 0x108928318>, 33, {'name': 'Ealing Broadway', 'NCL': 560, 'FloodRisk1000a': 0.1718, 'BetweenCent': 1146.6676746466183, 'coords': [51.5152, -0.3017]}),\n",
       " igraph.Vertex(<igraph.Graph object at 0x108928318>, 34, {'name': 'West Acton', 'NCL': 753, 'FloodRisk1000a': 0.0978, 'BetweenCent': 877.5314915638211, 'coords': [51.518, -0.2809]}),\n",
       " igraph.Vertex(<igraph.Graph object at 0x108928318>, 35, {'name': 'East Acton', 'NCL': 563, 'FloodRisk1000a': 0.2108, 'BetweenCent': 3713.9082613616424, 'coords': [51.5168, -0.2474]}),\n",
       " igraph.Vertex(<igraph.Graph object at 0x108928318>, 36, {'name': 'White City', 'NCL': 764, 'FloodRisk1000a': 0.1984, 'BetweenCent': 4086.241594694976, 'coords': [51.512, -0.2239]}),\n",
       " igraph.Vertex(<igraph.Graph object at 0x108928318>, 37, {'name': \"Shepherd's Bush (Cen)\", 'NCL': 700, 'FloodRisk1000a': 0.1094, 'BetweenCent': 4501.641594694978, 'coords': [51.5046, -0.2187]}),\n",
       " igraph.Vertex(<igraph.Graph object at 0x108928318>, 38, {'name': 'Holland Park', 'NCL': 608, 'FloodRisk1000a': 0.1434, 'BetweenCent': 4962.263816917205, 'coords': [51.5075, -0.20600000000000002]}),\n",
       " igraph.Vertex(<igraph.Graph object at 0x108928318>, 39, {'name': 'Notting Hill Gate', 'NCL': 663, 'FloodRisk1000a': 0.1109, 'BetweenCent': 11085.784060014366, 'coords': [51.5094, -0.1967]}),\n",
       " igraph.Vertex(<igraph.Graph object at 0x108928318>, 40, {'name': 'Queensway', 'NCL': 681, 'FloodRisk1000a': 0.0293, 'BetweenCent': 2935.9106104124817, 'coords': [51.5107, -0.1877]}),\n",
       " igraph.Vertex(<igraph.Graph object at 0x108928318>, 41, {'name': 'Lancaster Gate', 'NCL': 629, 'FloodRisk1000a': 0.3435, 'BetweenCent': 3147.155054856927, 'coords': [51.5119, -0.1756]}),\n",
       " igraph.Vertex(<igraph.Graph object at 0x108928318>, 42, {'name': 'Marble Arch', 'NCL': 640, 'FloodRisk1000a': 0.0, 'BetweenCent': 3413.9994993013715, 'coords': [51.5136, -0.1586]}),\n",
       " igraph.Vertex(<igraph.Graph object at 0x108928318>, 43, {'name': 'Bond Street', 'NCL': 524, 'FloodRisk1000a': 0.4427, 'BetweenCent': 15936.605832469695, 'coords': [51.5142, -0.1494]}),\n",
       " igraph.Vertex(<igraph.Graph object at 0x108928318>, 44, {'name': 'Tottenham Court Road', 'NCL': 728, 'FloodRisk1000a': 0.0808, 'BetweenCent': 1307.468686030767, 'coords': [51.5165, -0.131]}),\n",
       " igraph.Vertex(<igraph.Graph object at 0x108928318>, 45, {'name': 'Holborn', 'NCL': 607, 'FloodRisk1000a': 0.0529, 'BetweenCent': 1331.728923176924, 'coords': [51.5174, -0.12]}),\n",
       " igraph.Vertex(<igraph.Graph object at 0x108928318>, 46, {'name': 'Chancery Lane', 'NCL': 541, 'FloodRisk1000a': 0.0408, 'BetweenCent': 712.8488633004048, 'coords': [51.5185, -0.1111]}),\n",
       " igraph.Vertex(<igraph.Graph object at 0x108928318>, 47, {'name': \"St. Paul's\", 'NCL': 697, 'FloodRisk1000a': 0.0, 'BetweenCent': 660.7536878515515, 'coords': [51.5146, -0.0973]}),\n",
       " igraph.Vertex(<igraph.Graph object at 0x108928318>, 48, {'name': 'Bank / Monument', 'NCL': 513, 'FloodRisk1000a': 0.0, 'BetweenCent': 18811.58846942506, 'coords': [51.5133, -0.0886]}),\n",
       " igraph.Vertex(<igraph.Graph object at 0x108928318>, 49, {'name': 'Liverpool Street', 'NCL': 634, 'FloodRisk1000a': 0.0, 'BetweenCent': 17918.05171777521, 'coords': [51.5178, -0.0823]}),\n",
       " igraph.Vertex(<igraph.Graph object at 0x108928318>, 50, {'name': 'Bethnal Green', 'NCL': 520, 'FloodRisk1000a': 0.0055, 'BetweenCent': 16676.34609965204, 'coords': [51.527, -0.0549]}),\n",
       " igraph.Vertex(<igraph.Graph object at 0x108928318>, 51, {'name': 'Mile End', 'NCL': 642, 'FloodRisk1000a': 0.0239, 'BetweenCent': 16620.22345007939, 'coords': [51.5249, -0.0332]}),\n",
       " igraph.Vertex(<igraph.Graph object at 0x108928318>, 52, {'name': 'Stratford', 'NCL': 719, 'FloodRisk1000a': 0.0313, 'BetweenCent': 15985.58161144272, 'coords': [51.5416, -0.0042]}),\n",
       " igraph.Vertex(<igraph.Graph object at 0x108928318>, 53, {'name': 'Leyton', 'NCL': 632, 'FloodRisk1000a': 0.0401, 'BetweenCent': 9424.0, 'coords': [51.5566, -0.0053]}),\n",
       " igraph.Vertex(<igraph.Graph object at 0x108928318>, 54, {'name': 'Leytonstone', 'NCL': 633, 'FloodRisk1000a': 0.1129, 'BetweenCent': 9035.0, 'coords': [51.5683, 0.0083]}),\n",
       " igraph.Vertex(<igraph.Graph object at 0x108928318>, 55, {'name': 'Wanstead', 'NCL': 743, 'FloodRisk1000a': 0.0414, 'BetweenCent': 2800.0, 'coords': [51.5775, 0.0288]}),\n",
       " igraph.Vertex(<igraph.Graph object at 0x108928318>, 56, {'name': 'Redbridge', 'NCL': 684, 'FloodRisk1000a': 0.2183, 'BetweenCent': 2292.0, 'coords': [51.5763, 0.0454]}),\n",
       " igraph.Vertex(<igraph.Graph object at 0x108928318>, 57, {'name': 'Gants Hill', 'NCL': 582, 'FloodRisk1000a': 0.0, 'BetweenCent': 1784.0, 'coords': [51.5765, 0.0663]}),\n",
       " igraph.Vertex(<igraph.Graph object at 0x108928318>, 58, {'name': 'Newbury Park', 'NCL': 650, 'FloodRisk1000a': 0.0723, 'BetweenCent': 1281.0, 'coords': [51.5756, 0.0899]}),\n",
       " igraph.Vertex(<igraph.Graph object at 0x108928318>, 59, {'name': 'Barkingside', 'NCL': 515, 'FloodRisk1000a': 0.0445, 'BetweenCent': 788.0, 'coords': [51.5856, 0.0887]}),\n",
       " igraph.Vertex(<igraph.Graph object at 0x108928318>, 60, {'name': 'Fairlop', 'NCL': 576, 'FloodRisk1000a': 0.0181, 'BetweenCent': 300.0, 'coords': [51.596000000000004, 0.0912]}),\n",
       " igraph.Vertex(<igraph.Graph object at 0x108928318>, 61, {'name': 'Hainault', 'NCL': 592, 'FloodRisk1000a': 0.1702, 'BetweenCent': 61.0, 'coords': [51.603, 0.0933]}),\n",
       " igraph.Vertex(<igraph.Graph object at 0x108928318>, 62, {'name': 'Snaresbrook', 'NCL': 703, 'FloodRisk1000a': 0.0204, 'BetweenCent': 5310.0, 'coords': [51.5808, 0.0216]}),\n",
       " igraph.Vertex(<igraph.Graph object at 0x108928318>, 63, {'name': 'South Woodford', 'NCL': 712, 'FloodRisk1000a': 0.0152, 'BetweenCent': 4822.0, 'coords': [51.5917, 0.0275]}),\n",
       " igraph.Vertex(<igraph.Graph object at 0x108928318>, 64, {'name': 'Woodford', 'NCL': 769, 'FloodRisk1000a': 0.2183, 'BetweenCent': 4399.0, 'coords': [51.607, 0.0341]}),\n",
       " igraph.Vertex(<igraph.Graph object at 0x108928318>, 65, {'name': 'Roding Valley', 'NCL': 688, 'FloodRisk1000a': 0.0093, 'BetweenCent': 1336.0, 'coords': [51.6171, 0.0439]}),\n",
       " igraph.Vertex(<igraph.Graph object at 0x108928318>, 66, {'name': 'Chigwell', 'NCL': 544, 'FloodRisk1000a': 0.1231, 'BetweenCent': 828.0, 'coords': [51.6177, 0.0755]}),\n",
       " igraph.Vertex(<igraph.Graph object at 0x108928318>, 67, {'name': 'Grange Hill', 'NCL': 587, 'FloodRisk1000a': 0.129, 'BetweenCent': 320.0, 'coords': [51.6132, 0.0923]}),\n",
       " igraph.Vertex(<igraph.Graph object at 0x108928318>, 68, {'name': 'Buckhurst Hill', 'NCL': 531, 'FloodRisk1000a': 0.022000000000000002, 'BetweenCent': 2104.0, 'coords': [51.6266, 0.0471]}),\n",
       " igraph.Vertex(<igraph.Graph object at 0x108928318>, 69, {'name': 'Loughton', 'NCL': 636, 'FloodRisk1000a': 0.1409, 'BetweenCent': 1584.0, 'coords': [51.6412, 0.0558]}),\n",
       " igraph.Vertex(<igraph.Graph object at 0x108928318>, 70, {'name': 'Debden', 'NCL': 557, 'FloodRisk1000a': 0.055999999999999994, 'BetweenCent': 1060.0, 'coords': [51.6455, 0.0838]}),\n",
       " igraph.Vertex(<igraph.Graph object at 0x108928318>, 71, {'name': 'Theydon Bois', 'NCL': 725, 'FloodRisk1000a': 0.3297, 'BetweenCent': 532.0, 'coords': [51.6717, 0.1033]}),\n",
       " igraph.Vertex(<igraph.Graph object at 0x108928318>, 72, {'name': 'Epping', 'NCL': 572, 'FloodRisk1000a': 0.0846, 'BetweenCent': 0.0, 'coords': [51.6937, 0.1139]}),\n",
       " igraph.Vertex(<igraph.Graph object at 0x108928318>, 73, {'name': 'Walthamstow Central', 'NCL': 742, 'FloodRisk1000a': 0.1423, 'BetweenCent': 0.0, 'coords': [51.583, -0.0195]}),\n",
       " igraph.Vertex(<igraph.Graph object at 0x108928318>, 74, {'name': 'Blackhorse Road', 'NCL': 522, 'FloodRisk1000a': 0.1056, 'BetweenCent': 532.0, 'coords': [51.5867, -0.0417]}),\n",
       " igraph.Vertex(<igraph.Graph object at 0x108928318>, 75, {'name': 'Tottenham Hale', 'NCL': 729, 'FloodRisk1000a': 0.0926, 'BetweenCent': 1060.0, 'coords': [51.5882, -0.0594]}),\n",
       " igraph.Vertex(<igraph.Graph object at 0x108928318>, 76, {'name': 'Seven Sisters', 'NCL': 698, 'FloodRisk1000a': 0.0236, 'BetweenCent': 1584.0, 'coords': [51.5822, -0.0749]}),\n",
       " igraph.Vertex(<igraph.Graph object at 0x108928318>, 77, {'name': 'Finsbury Park', 'NCL': 580, 'FloodRisk1000a': 0.0866, 'BetweenCent': 6438.0, 'coords': [51.5642, -0.1065]}),\n",
       " igraph.Vertex(<igraph.Graph object at 0x108928318>, 78, {'name': 'Highbury & Islington', 'NCL': 603, 'FloodRisk1000a': 0.1028, 'BetweenCent': 6790.0, 'coords': [51.54600000000001, -0.10400000000000001]}),\n",
       " igraph.Vertex(<igraph.Graph object at 0x108928318>, 79, {'name': \"King's Cross St. Pancras\", 'NCL': 625, 'FloodRisk1000a': 0.2389, 'BetweenCent': 16186.481906281282, 'coords': [51.5308, -0.1238]}),\n",
       " igraph.Vertex(<igraph.Graph object at 0x108928318>, 80, {'name': 'Euston', 'NCL': 574, 'FloodRisk1000a': 0.0055, 'BetweenCent': 11721.031064808425, 'coords': [51.5282, -0.1337]}),\n",
       " igraph.Vertex(<igraph.Graph object at 0x108928318>, 81, {'name': 'Warren Street', 'NCL': 745, 'FloodRisk1000a': 0.0989, 'BetweenCent': 5398.267762465912, 'coords': [51.5247, -0.1384]}),\n",
       " igraph.Vertex(<igraph.Graph object at 0x108928318>, 82, {'name': 'Green Park', 'NCL': 590, 'FloodRisk1000a': 0.002, 'BetweenCent': 20420.377190931045, 'coords': [51.5067, -0.1428]}),\n",
       " igraph.Vertex(<igraph.Graph object at 0x108928318>, 83, {'name': 'Victoria', 'NCL': 741, 'FloodRisk1000a': 0.1287, 'BetweenCent': 12716.12538879766, 'coords': [51.4965, -0.1447]}),\n",
       " igraph.Vertex(<igraph.Graph object at 0x108928318>, 84, {'name': 'Pimlico', 'NCL': 776, 'FloodRisk1000a': 0.0657, 'BetweenCent': 4110.0028571428575, 'coords': [51.4893, -0.1334]}),\n",
       " igraph.Vertex(<igraph.Graph object at 0x108928318>, 85, {'name': 'Vauxhall', 'NCL': 777, 'FloodRisk1000a': 0.0215, 'BetweenCent': 3761.26, 'coords': [51.4861, -0.1253]}),\n",
       " igraph.Vertex(<igraph.Graph object at 0x108928318>, 86, {'name': 'Stockwell', 'NCL': 716, 'FloodRisk1000a': 0.1698, 'BetweenCent': 5406.217142857144, 'coords': [51.4723, -0.12300000000000001]}),\n",
       " igraph.Vertex(<igraph.Graph object at 0x108928318>, 87, {'name': 'Brixton', 'NCL': 778, 'FloodRisk1000a': 0.0985, 'BetweenCent': 0.0, 'coords': [51.4627, -0.1145]}),\n",
       " igraph.Vertex(<igraph.Graph object at 0x108928318>, 88, {'name': 'Stanmore', 'NCL': 714, 'FloodRisk1000a': 0.024, 'BetweenCent': 0.0, 'coords': [51.6194, -0.3028]}),\n",
       " igraph.Vertex(<igraph.Graph object at 0x108928318>, 89, {'name': 'Canons Park', 'NCL': 537, 'FloodRisk1000a': 0.0536, 'BetweenCent': 532.0, 'coords': [51.6078, -0.2947]}),\n",
       " igraph.Vertex(<igraph.Graph object at 0x108928318>, 90, {'name': 'Queensbury', 'NCL': 679, 'FloodRisk1000a': 0.2115, 'BetweenCent': 1060.0, 'coords': [51.5942, -0.2861]}),\n",
       " igraph.Vertex(<igraph.Graph object at 0x108928318>, 91, {'name': 'Kingsbury', 'NCL': 624, 'FloodRisk1000a': 0.1925, 'BetweenCent': 1584.0, 'coords': [51.5846, -0.2786]}),\n",
       " igraph.Vertex(<igraph.Graph object at 0x108928318>, 92, {'name': 'Wembley Park', 'NCL': 752, 'FloodRisk1000a': 0.0497, 'BetweenCent': 3598.3069135282944, 'coords': [51.5635, -0.2795]}),\n",
       " igraph.Vertex(<igraph.Graph object at 0x108928318>, 93, {'name': 'Neasden', 'NCL': 649, 'FloodRisk1000a': 0.3273, 'BetweenCent': 539.0, 'coords': [51.5542, -0.2503]}),\n",
       " igraph.Vertex(<igraph.Graph object at 0x108928318>, 94, {'name': 'Dollis Hill', 'NCL': 558, 'FloodRisk1000a': 0.1371, 'BetweenCent': 17.0, 'coords': [51.552, -0.2387]}),\n",
       " igraph.Vertex(<igraph.Graph object at 0x108928318>, 95, {'name': 'Willesden Green', 'NCL': 765, 'FloodRisk1000a': 0.0491, 'BetweenCent': 6.0, 'coords': [51.5492, -0.2215]}),\n",
       " igraph.Vertex(<igraph.Graph object at 0x108928318>, 96, {'name': 'Kilburn', 'NCL': 622, 'FloodRisk1000a': 0.16, 'BetweenCent': 517.0, 'coords': [51.5471, -0.2047]}),\n",
       " igraph.Vertex(<igraph.Graph object at 0x108928318>, 97, {'name': 'West Hampstead', 'NCL': 758, 'FloodRisk1000a': 0.0409, 'BetweenCent': 1039.0, 'coords': [51.5469, -0.1906]}),\n",
       " igraph.Vertex(<igraph.Graph object at 0x108928318>, 98, {'name': 'Finchley Road', 'NCL': 579, 'FloodRisk1000a': 0.096, 'BetweenCent': 16319.234589448897, 'coords': [51.5472, -0.1803]}),\n",
       " igraph.Vertex(<igraph.Graph object at 0x108928318>, 99, {'name': 'Swiss Cottage', 'NCL': 723, 'FloodRisk1000a': 0.0277, 'BetweenCent': 40.0, 'coords': [51.5432, -0.1738]}),\n",
       " igraph.Vertex(<igraph.Graph object at 0x108928318>, 100, {'name': \"St. John's Wood\", 'NCL': 696, 'FloodRisk1000a': 0.0, 'BetweenCent': 224.0, 'coords': [51.5347, -0.174]}),\n",
       " igraph.Vertex(<igraph.Graph object at 0x108928318>, 101, {'name': 'Westminster', 'NCL': 761, 'FloodRisk1000a': 0.0, 'BetweenCent': 17676.69580711157, 'coords': [51.501000000000005, -0.1254]}),\n",
       " igraph.Vertex(<igraph.Graph object at 0x108928318>, 102, {'name': 'Southwark', 'NCL': 784, 'FloodRisk1000a': 0.0647, 'BetweenCent': 925.9782393808455, 'coords': [51.504, -0.1052]}),\n",
       " igraph.Vertex(<igraph.Graph object at 0x108928318>, 103, {'name': 'London Bridge', 'NCL': 635, 'FloodRisk1000a': 0.0575, 'BetweenCent': 2520.4443087764503, 'coords': [51.5052, -0.0864]}),\n",
       " igraph.Vertex(<igraph.Graph object at 0x108928318>, 104, {'name': 'Bermondsey', 'NCL': 787, 'FloodRisk1000a': 0.0214, 'BetweenCent': 1612.4183885573216, 'coords': [51.4979, -0.0637]}),\n",
       " igraph.Vertex(<igraph.Graph object at 0x108928318>, 105, {'name': 'Canada Water', 'NCL': 788, 'FloodRisk1000a': 0.0321, 'BetweenCent': 1214.668388557318, 'coords': [51.4982, -0.0502]}),\n",
       " igraph.Vertex(<igraph.Graph object at 0x108928318>, 106, {'name': 'Canary Wharf', 'NCL': 852, 'FloodRisk1000a': 0.0733, 'BetweenCent': 841.7183885573136, 'coords': [51.5051, -0.0209]}),\n",
       " igraph.Vertex(<igraph.Graph object at 0x108928318>, 107, {'name': 'North Greenwich', 'NCL': 789, 'FloodRisk1000a': 0.0259, 'BetweenCent': 474.68505522398436, 'coords': [51.5005, 0.0039]}),\n",
       " igraph.Vertex(<igraph.Graph object at 0x108928318>, 108, {'name': 'Canning Town', 'NCL': 884, 'FloodRisk1000a': 0.0327, 'BetweenCent': 324.3833333333331, 'coords': [51.5147, 0.0082]}),\n",
       " igraph.Vertex(<igraph.Graph object at 0x108928318>, 109, {'name': 'West Ham', 'NCL': 757, 'FloodRisk1000a': 0.1291, 'BetweenCent': 6613.748278109351, 'coords': [51.5287, 0.0056]}),\n",
       " igraph.Vertex(<igraph.Graph object at 0x108928318>, 110, {'name': 'Edgware', 'NCL': 568, 'FloodRisk1000a': 0.1368, 'BetweenCent': 0.0, 'coords': [51.6137, -0.275]}),\n",
       " igraph.Vertex(<igraph.Graph object at 0x108928318>, 111, {'name': 'Burnt Oak', 'NCL': 532, 'FloodRisk1000a': 0.5629, 'BetweenCent': 532.0, 'coords': [51.6028, -0.2641]}),\n",
       " igraph.Vertex(<igraph.Graph object at 0x108928318>, 112, {'name': 'Colindale', 'NCL': 551, 'FloodRisk1000a': 0.033, 'BetweenCent': 1060.0, 'coords': [51.5955, -0.2502]}),\n",
       " igraph.Vertex(<igraph.Graph object at 0x108928318>, 113, {'name': 'Hendon Central', 'NCL': 601, 'FloodRisk1000a': 0.1599, 'BetweenCent': 1584.0, 'coords': [51.5829, -0.2259]}),\n",
       " igraph.Vertex(<igraph.Graph object at 0x108928318>, 114, {'name': 'Brent Cross', 'NCL': 529, 'FloodRisk1000a': 0.0416, 'BetweenCent': 2104.0, 'coords': [51.5766, -0.2136]}),\n",
       " igraph.Vertex(<igraph.Graph object at 0x108928318>, 115, {'name': 'Golders Green', 'NCL': 584, 'FloodRisk1000a': 0.085, 'BetweenCent': 2620.0, 'coords': [51.5724, -0.1941]}),\n",
       " igraph.Vertex(<igraph.Graph object at 0x108928318>, 116, {'name': 'Hampstead', 'NCL': 594, 'FloodRisk1000a': 0.0, 'BetweenCent': 3132.0, 'coords': [51.5568, -0.17800000000000002]}),\n",
       " igraph.Vertex(<igraph.Graph object at 0x108928318>, 117, {'name': 'Belsize Park', 'NCL': 519, 'FloodRisk1000a': 0.0298, 'BetweenCent': 3640.0, 'coords': [51.5504, -0.1642]}),\n",
       " igraph.Vertex(<igraph.Graph object at 0x108928318>, 118, {'name': 'Chalk Farm', 'NCL': 540, 'FloodRisk1000a': 0.1196, 'BetweenCent': 4144.0, 'coords': [51.5441, -0.1538]}),\n",
       " igraph.Vertex(<igraph.Graph object at 0x108928318>, 119, {'name': 'Camden Town', 'NCL': 535, 'FloodRisk1000a': 0.1124, 'BetweenCent': 10078.0, 'coords': [51.5392, -0.1426]}),\n",
       " igraph.Vertex(<igraph.Graph object at 0x108928318>, 120, {'name': 'High Barnet', 'NCL': 602, 'FloodRisk1000a': 0.0709, 'BetweenCent': 0.0, 'coords': [51.6503, -0.1943]}),\n",
       " igraph.Vertex(<igraph.Graph object at 0x108928318>, 121, {'name': 'Totteridge & Whetstone', 'NCL': 730, 'FloodRisk1000a': 0.0902, 'BetweenCent': 532.0, 'coords': [51.6302, -0.1791]}),\n",
       " igraph.Vertex(<igraph.Graph object at 0x108928318>, 122, {'name': 'Woodside Park', 'NCL': 771, 'FloodRisk1000a': 0.0514, 'BetweenCent': 1060.0, 'coords': [51.6179, -0.1856]}),\n",
       " igraph.Vertex(<igraph.Graph object at 0x108928318>, 123, {'name': 'West Finchley', 'NCL': 756, 'FloodRisk1000a': 0.0802, 'BetweenCent': 1584.0, 'coords': [51.6095, -0.1883]}),\n",
       " igraph.Vertex(<igraph.Graph object at 0x108928318>, 124, {'name': 'Finchley Central', 'NCL': 578, 'FloodRisk1000a': 0.0543, 'BetweenCent': 2628.0, 'coords': [51.6012, -0.1932]}),\n",
       " igraph.Vertex(<igraph.Graph object at 0x108928318>, 125, {'name': 'Mill Hill East', 'NCL': 643, 'FloodRisk1000a': 0.2757, 'BetweenCent': 0.0, 'coords': [51.6082, -0.2103]}),\n",
       " igraph.Vertex(<igraph.Graph object at 0x108928318>, 126, {'name': 'East Finchley', 'NCL': 565, 'FloodRisk1000a': 0.0488, 'BetweenCent': 3132.0, 'coords': [51.5874, -0.165]}),\n",
       " igraph.Vertex(<igraph.Graph object at 0x108928318>, 127, {'name': 'Highgate', 'NCL': 604, 'FloodRisk1000a': 0.0356, 'BetweenCent': 3640.0, 'coords': [51.5777, -0.1458]}),\n",
       " igraph.Vertex(<igraph.Graph object at 0x108928318>, 128, {'name': 'Archway', 'NCL': 508, 'FloodRisk1000a': 0.1015, 'BetweenCent': 4144.0, 'coords': [51.5653, -0.1353]}),\n",
       " igraph.Vertex(<igraph.Graph object at 0x108928318>, 129, {'name': 'Tufnell Park', 'NCL': 733, 'FloodRisk1000a': 0.0467, 'BetweenCent': 4644.0, 'coords': [51.5567, -0.1374]}),\n",
       " igraph.Vertex(<igraph.Graph object at 0x108928318>, 130, {'name': 'Kentish Town', 'NCL': 619, 'FloodRisk1000a': 0.1051, 'BetweenCent': 5140.0, 'coords': [51.5507, -0.1402]}),\n",
       " igraph.Vertex(<igraph.Graph object at 0x108928318>, 131, {'name': 'Mornington Crescent', 'NCL': 648, 'FloodRisk1000a': 0.0805, 'BetweenCent': 0.0, 'coords': [51.5342, -0.1387]}),\n",
       " igraph.Vertex(<igraph.Graph object at 0x108928318>, 132, {'name': 'Goodge Street', 'NCL': 586, 'FloodRisk1000a': 0.0349, 'BetweenCent': 43.79999999999999, 'coords': [51.5205, -0.1347]}),\n",
       " igraph.Vertex(<igraph.Graph object at 0x108928318>, 133, {'name': 'Leicester Square', 'NCL': 631, 'FloodRisk1000a': 0.2012, 'BetweenCent': 346.9450231921348, 'coords': [51.5113, -0.1281]}),\n",
       " igraph.Vertex(<igraph.Graph object at 0x108928318>, 134, {'name': 'Kennington', 'NCL': 616, 'FloodRisk1000a': 0.0498, 'BetweenCent': 2758.5420923520946, 'coords': [51.4884, -0.1053]}),\n",
       " igraph.Vertex(<igraph.Graph object at 0x108928318>, 135, {'name': 'Angel', 'NCL': 507, 'FloodRisk1000a': 0.0655, 'BetweenCent': 481.71935477222013, 'coords': [51.5322, -0.1058]}),\n",
       " igraph.Vertex(<igraph.Graph object at 0x108928318>, 136, {'name': 'Old Street', 'NCL': 665, 'FloodRisk1000a': 0.0561, 'BetweenCent': 361.6048195331985, 'coords': [51.5263, -0.0873]}),\n",
       " igraph.Vertex(<igraph.Graph object at 0x108928318>, 137, {'name': 'Moorgate', 'NCL': 645, 'FloodRisk1000a': 0.0024, 'BetweenCent': 6293.634862413581, 'coords': [51.5186, -0.0886]}),\n",
       " igraph.Vertex(<igraph.Graph object at 0x108928318>, 138, {'name': 'Borough', 'NCL': 525, 'FloodRisk1000a': 0.0275, 'BetweenCent': 124.45555555555558, 'coords': [51.5011, -0.0943]}),\n",
       " igraph.Vertex(<igraph.Graph object at 0x108928318>, 139, {'name': 'Oval', 'NCL': 668, 'FloodRisk1000a': 0.0253, 'BetweenCent': 2100.957142857142, 'coords': [51.4819, -0.113]}),\n",
       " igraph.Vertex(<igraph.Graph object at 0x108928318>, 140, {'name': 'Clapham North', 'NCL': 548, 'FloodRisk1000a': 0.2165, 'BetweenCent': 4144.0, 'coords': [51.4649, -0.1299]}),\n",
       " igraph.Vertex(<igraph.Graph object at 0x108928318>, 141, {'name': 'Clapham Common', 'NCL': 547, 'FloodRisk1000a': 0.0396, 'BetweenCent': 3640.0, 'coords': [51.4618, -0.1384]}),\n",
       " igraph.Vertex(<igraph.Graph object at 0x108928318>, 142, {'name': 'Clapham South', 'NCL': 549, 'FloodRisk1000a': 0.0122, 'BetweenCent': 3132.0, 'coords': [51.4527, -0.14800000000000002]}),\n",
       " igraph.Vertex(<igraph.Graph object at 0x108928318>, 143, {'name': 'Balham', 'NCL': 512, 'FloodRisk1000a': 0.042, 'BetweenCent': 2620.0, 'coords': [51.4431, -0.1525]}),\n",
       " igraph.Vertex(<igraph.Graph object at 0x108928318>, 144, {'name': 'Tooting Bec', 'NCL': 726, 'FloodRisk1000a': 0.0758, 'BetweenCent': 2104.0, 'coords': [51.4361, -0.1598]}),\n",
       " igraph.Vertex(<igraph.Graph object at 0x108928318>, 145, {'name': 'Tooting Broadway', 'NCL': 727, 'FloodRisk1000a': 0.1655, 'BetweenCent': 1584.0, 'coords': [51.4275, -0.168]}),\n",
       " igraph.Vertex(<igraph.Graph object at 0x108928318>, 146, {'name': 'Colliers Wood', 'NCL': 552, 'FloodRisk1000a': 0.1436, 'BetweenCent': 1060.0, 'coords': [51.418, -0.1778]}),\n",
       " igraph.Vertex(<igraph.Graph object at 0x108928318>, 147, {'name': 'South Wimbledon', 'NCL': 711, 'FloodRisk1000a': 0.0485, 'BetweenCent': 532.0, 'coords': [51.4154, -0.1919]}),\n",
       " igraph.Vertex(<igraph.Graph object at 0x108928318>, 148, {'name': 'Morden', 'NCL': 647, 'FloodRisk1000a': 0.0516, 'BetweenCent': 0.0, 'coords': [51.4022, -0.1948]}),\n",
       " igraph.Vertex(<igraph.Graph object at 0x108928318>, 149, {'name': 'Uxbridge', 'NCL': 740, 'FloodRisk1000a': 0.0713, 'BetweenCent': 0.0, 'coords': [51.5463, -0.4786]}),\n",
       " igraph.Vertex(<igraph.Graph object at 0x108928318>, 150, {'name': 'Hillingdon', 'NCL': 606, 'FloodRisk1000a': 0.1275, 'BetweenCent': 532.0, 'coords': [51.5538, -0.4499]}),\n",
       " igraph.Vertex(<igraph.Graph object at 0x108928318>, 151, {'name': 'Ickenham', 'NCL': 615, 'FloodRisk1000a': 0.0, 'BetweenCent': 1060.0, 'coords': [51.5619, -0.4421]}),\n",
       " igraph.Vertex(<igraph.Graph object at 0x108928318>, 152, {'name': 'Ruislip', 'NCL': 691, 'FloodRisk1000a': 0.122, 'BetweenCent': 1584.0, 'coords': [51.5715, -0.4213]}),\n",
       " igraph.Vertex(<igraph.Graph object at 0x108928318>, 153, {'name': 'Ruislip Manor', 'NCL': 693, 'FloodRisk1000a': 0.121, 'BetweenCent': 2104.0, 'coords': [51.5732, -0.4125]}),\n",
       " igraph.Vertex(<igraph.Graph object at 0x108928318>, 154, {'name': 'Eastcote', 'NCL': 564, 'FloodRisk1000a': 0.0386, 'BetweenCent': 2620.0, 'coords': [51.5765, -0.397]}),\n",
       " igraph.Vertex(<igraph.Graph object at 0x108928318>, 155, {'name': 'Rayners Lane', 'NCL': 683, 'FloodRisk1000a': 0.0511, 'BetweenCent': 5692.69768546923, 'coords': [51.5753, -0.3714]}),\n",
       " igraph.Vertex(<igraph.Graph object at 0x108928318>, 156, {'name': 'South Harrow', 'NCL': 707, 'FloodRisk1000a': 0.0636, 'BetweenCent': 2673.99996065883, 'coords': [51.5646, -0.3521]}),\n",
       " igraph.Vertex(<igraph.Graph object at 0x108928318>, 157, {'name': 'Sudbury Hill', 'NCL': 720, 'FloodRisk1000a': 0.0636, 'BetweenCent': 2345.8804851852988, 'coords': [51.5569, -0.3366]}),\n",
       " igraph.Vertex(<igraph.Graph object at 0x108928318>, 158, {'name': 'Sudbury Town', 'NCL': 721, 'FloodRisk1000a': 0.0885, 'BetweenCent': 2031.1534353768682, 'coords': [51.5507, -0.3156]}),\n",
       " igraph.Vertex(<igraph.Graph object at 0x108928318>, 159, {'name': 'Alperton', 'NCL': 505, 'FloodRisk1000a': 0.034, 'BetweenCent': 1758.1395148120787, 'coords': [51.5407, -0.2997]}),\n",
       " igraph.Vertex(<igraph.Graph object at 0x108928318>, 160, {'name': 'Park Royal', 'NCL': 671, 'FloodRisk1000a': 0.0046, 'BetweenCent': 1705.458688377832, 'coords': [51.527, -0.2841]}),\n",
       " igraph.Vertex(<igraph.Graph object at 0x108928318>, 161, {'name': 'North Ealing', 'NCL': 654, 'FloodRisk1000a': 0.0747, 'BetweenCent': 1908.5874854186247, 'coords': [51.5175, -0.2887]}),\n",
       " igraph.Vertex(<igraph.Graph object at 0x108928318>, 162, {'name': 'Ealing Common', 'NCL': 561, 'FloodRisk1000a': 0.0615, 'BetweenCent': 3435.421593633899, 'coords': [51.5101, -0.2882]}),\n",
       " igraph.Vertex(<igraph.Graph object at 0x108928318>, 163, {'name': 'Acton Town', 'NCL': 500, 'FloodRisk1000a': 0.1077, 'BetweenCent': 9337.191966497814, 'coords': [51.5028, -0.2801]}),\n",
       " igraph.Vertex(<igraph.Graph object at 0x108928318>, 164, {'name': 'Heathrow Terminal 5', 'NCL': 783, 'FloodRisk1000a': 0.0002, 'BetweenCent': 0.0, 'coords': [51.4598, -0.4476]}),\n",
       " igraph.Vertex(<igraph.Graph object at 0x108928318>, 165, {'name': 'Heathrow Terminals 123', 'NCL': 780, 'FloodRisk1000a': 0.0483, 'BetweenCent': 797.0000000000001, 'coords': [51.4713, -0.4524]}),\n",
       " igraph.Vertex(<igraph.Graph object at 0x108928318>, 166, {'name': 'Hatton Cross', 'NCL': 779, 'FloodRisk1000a': 0.0637, 'BetweenCent': 1586.0, 'coords': [51.4669, -0.4227]}),\n",
       " igraph.Vertex(<igraph.Graph object at 0x108928318>, 167, {'name': 'Hounslow West', 'NCL': 613, 'FloodRisk1000a': 0.1483, 'BetweenCent': 2104.0, 'coords': [51.4734, -0.3855]}),\n",
       " igraph.Vertex(<igraph.Graph object at 0x108928318>, 168, {'name': 'Hounslow Central', 'NCL': 611, 'FloodRisk1000a': 0.1921, 'BetweenCent': 2620.0, 'coords': [51.4713, -0.3665]}),\n",
       " igraph.Vertex(<igraph.Graph object at 0x108928318>, 169, {'name': 'Hounslow East', 'NCL': 612, 'FloodRisk1000a': 0.0757, 'BetweenCent': 3132.0, 'coords': [51.4733, -0.3564]}),\n",
       " igraph.Vertex(<igraph.Graph object at 0x108928318>, 170, {'name': 'Osterley', 'NCL': 667, 'FloodRisk1000a': 0.0706, 'BetweenCent': 3640.0, 'coords': [51.4813, -0.3522]}),\n",
       " igraph.Vertex(<igraph.Graph object at 0x108928318>, 171, {'name': 'Boston Manor', 'NCL': 526, 'FloodRisk1000a': 0.0961, 'BetweenCent': 4144.0, 'coords': [51.4956, -0.325]}),\n",
       " igraph.Vertex(<igraph.Graph object at 0x108928318>, 172, {'name': 'Northfields', 'NCL': 655, 'FloodRisk1000a': 0.2427, 'BetweenCent': 4644.0, 'coords': [51.4995, -0.3142]}),\n",
       " igraph.Vertex(<igraph.Graph object at 0x108928318>, 173, {'name': 'South Ealing', 'NCL': 704, 'FloodRisk1000a': 0.053, 'BetweenCent': 5140.0, 'coords': [51.5011, -0.3072]}),\n",
       " igraph.Vertex(<igraph.Graph object at 0x108928318>, 174, {'name': 'Hammersmith (Dis)', 'NCL': 593, 'FloodRisk1000a': 0.0846, 'BetweenCent': 9916.637642912707, 'coords': [51.4936, -0.2251]}),\n",
       " igraph.Vertex(<igraph.Graph object at 0x108928318>, 175, {'name': 'Barons Court', 'NCL': 516, 'FloodRisk1000a': 0.3279, 'BetweenCent': 10154.470976246044, 'coords': [51.4905, -0.2139]}),\n",
       " igraph.Vertex(<igraph.Graph object at 0x108928318>, 176, {'name': \"Earl's Court\", 'NCL': 562, 'FloodRisk1000a': 0.2908, 'BetweenCent': 14912.3171300922, 'coords': [51.492, -0.1973]}),\n",
       " igraph.Vertex(<igraph.Graph object at 0x108928318>, 177, {'name': 'Gloucester Road', 'NCL': 583, 'FloodRisk1000a': 0.1796, 'BetweenCent': 10055.89108077563, 'coords': [51.4945, -0.1829]}),\n",
       " igraph.Vertex(<igraph.Graph object at 0x108928318>, 178, {'name': 'South Kensington', 'NCL': 708, 'FloodRisk1000a': 0.2474, 'BetweenCent': 10226.207107916864, 'coords': [51.4941, -0.1738]}),\n",
       " igraph.Vertex(<igraph.Graph object at 0x108928318>, 179, {'name': 'Knightsbridge', 'NCL': 626, 'FloodRisk1000a': 0.1212, 'BetweenCent': 978.1957075777188, 'coords': [51.5015, -0.1607]}),\n",
       " igraph.Vertex(<igraph.Graph object at 0x108928318>, 180, {'name': 'Hyde Park Corner', 'NCL': 614, 'FloodRisk1000a': 0.0076, 'BetweenCent': 1225.4223742443846, 'coords': [51.5027, -0.1527]}),\n",
       " igraph.Vertex(<igraph.Graph object at 0x108928318>, 181, {'name': 'Covent Garden', 'NCL': 553, 'FloodRisk1000a': 0.0, 'BetweenCent': 44.85584795321636, 'coords': [51.5129, -0.1243]}),\n",
       " igraph.Vertex(<igraph.Graph object at 0x108928318>, 182, {'name': 'Russell Square', 'NCL': 694, 'FloodRisk1000a': 0.0463, 'BetweenCent': 470.545029239766, 'coords': [51.523, -0.1244]}),\n",
       " igraph.Vertex(<igraph.Graph object at 0x108928318>, 183, {'name': 'Caledonian Road', 'NCL': 534, 'FloodRisk1000a': 0.1564, 'BetweenCent': 754.0, 'coords': [51.5481, -0.1188]}),\n",
       " igraph.Vertex(<igraph.Graph object at 0x108928318>, 184, {'name': 'Holloway Road', 'NCL': 609, 'FloodRisk1000a': 0.0969, 'BetweenCent': 266.0, 'coords': [51.5526, -0.1132]}),\n",
       " igraph.Vertex(<igraph.Graph object at 0x108928318>, 185, {'name': 'Arsenal', 'NCL': 510, 'FloodRisk1000a': 0.1049, 'BetweenCent': 40.0, 'coords': [51.5586, -0.1059]}),\n",
       " igraph.Vertex(<igraph.Graph object at 0x108928318>, 186, {'name': 'Manor House', 'NCL': 638, 'FloodRisk1000a': 0.0086, 'BetweenCent': 3640.0, 'coords': [51.5712, -0.0958]}),\n",
       " igraph.Vertex(<igraph.Graph object at 0x108928318>, 187, {'name': 'Turnpike Lane', 'NCL': 735, 'FloodRisk1000a': 0.1364, 'BetweenCent': 3132.0, 'coords': [51.5904, -0.1028]}),\n",
       " igraph.Vertex(<igraph.Graph object at 0x108928318>, 188, {'name': 'Wood Green', 'NCL': 770, 'FloodRisk1000a': 0.0099, 'BetweenCent': 2620.0, 'coords': [51.5975, -0.1097]}),\n",
       " igraph.Vertex(<igraph.Graph object at 0x108928318>, 189, {'name': 'Bounds Green', 'NCL': 527, 'FloodRisk1000a': 0.0002, 'BetweenCent': 2104.0, 'coords': [51.6071, -0.1243]}),\n",
       " igraph.Vertex(<igraph.Graph object at 0x108928318>, 190, {'name': 'Arnos Grove', 'NCL': 509, 'FloodRisk1000a': 0.0255, 'BetweenCent': 1584.0, 'coords': [51.6164, -0.1331]}),\n",
       " igraph.Vertex(<igraph.Graph object at 0x108928318>, 191, {'name': 'Southgate', 'NCL': 706, 'FloodRisk1000a': 0.0851, 'BetweenCent': 1060.0, 'coords': [51.6322, -0.128]}),\n",
       " igraph.Vertex(<igraph.Graph object at 0x108928318>, 192, {'name': 'Oakwood', 'NCL': 664, 'FloodRisk1000a': 0.0431, 'BetweenCent': 532.0, 'coords': [51.6476, -0.1318]}),\n",
       " igraph.Vertex(<igraph.Graph object at 0x108928318>, 193, {'name': 'Cockfosters', 'NCL': 550, 'FloodRisk1000a': 0.0067, 'BetweenCent': 0.0, 'coords': [51.6517, -0.1496]}),\n",
       " igraph.Vertex(<igraph.Graph object at 0x108928318>, 194, {'name': 'Heathrow Terminal 4', 'NCL': 781, 'FloodRisk1000a': 0.0002, 'BetweenCent': 530.0, 'coords': [51.4598, -0.4476]}),\n",
       " igraph.Vertex(<igraph.Graph object at 0x108928318>, 195, {'name': 'Aldgate', 'NCL': 502, 'FloodRisk1000a': 0.0011, 'BetweenCent': 13.251282051282049, 'coords': [51.5143, -0.0755]}),\n",
       " igraph.Vertex(<igraph.Graph object at 0x108928318>, 196, {'name': 'Barbican', 'NCL': 501, 'FloodRisk1000a': 0.0062, 'BetweenCent': 5665.120603586849, 'coords': [51.5204, -0.0979]}),\n",
       " igraph.Vertex(<igraph.Graph object at 0x108928318>, 197, {'name': 'Farringdon', 'NCL': 577, 'FloodRisk1000a': 0.1918, 'BetweenCent': 5785.701818135607, 'coords': [51.5203, -0.1053]}),\n",
       " igraph.Vertex(<igraph.Graph object at 0x108928318>, 198, {'name': 'Euston Square', 'NCL': 575, 'FloodRisk1000a': 0.0243, 'BetweenCent': 8554.972891955616, 'coords': [51.526, -0.1359]}),\n",
       " igraph.Vertex(<igraph.Graph object at 0x108928318>, 199, {'name': 'Great Portland Street', 'NCL': 588, 'FloodRisk1000a': 0.0164, 'BetweenCent': 8641.252406826325, 'coords': [51.5238, -0.1439]}),\n",
       " igraph.Vertex(<igraph.Graph object at 0x108928318>, 200, {'name': 'Preston Road', 'NCL': 677, 'FloodRisk1000a': 0.0424, 'BetweenCent': 15.0, 'coords': [51.571999999999996, -0.2954]}),\n",
       " igraph.Vertex(<igraph.Graph object at 0x108928318>, 201, {'name': 'Northwick Park', 'NCL': 660, 'FloodRisk1000a': 0.1327, 'BetweenCent': 58.69308647170211, 'coords': [51.5784, -0.3184]}),\n",
       " igraph.Vertex(<igraph.Graph object at 0x108928318>, 202, {'name': 'Harrow-on-the-Hill', 'NCL': 598, 'FloodRisk1000a': 0.0593, 'BetweenCent': 11709.62076239231, 'coords': [51.5793, -0.3366]}),\n",
       " igraph.Vertex(<igraph.Graph object at 0x108928318>, 203, {'name': 'West Harrow', 'NCL': 759, 'FloodRisk1000a': 0.1053, 'BetweenCent': 5579.620762392308, 'coords': [51.5795, -0.3533]}),\n",
       " igraph.Vertex(<igraph.Graph object at 0x108928318>, 204, {'name': 'North Harrow', 'NCL': 656, 'FloodRisk1000a': 0.0663, 'BetweenCent': 776.0, 'coords': [51.5846, -0.3626]}),\n",
       " igraph.Vertex(<igraph.Graph object at 0x108928318>, 205, {'name': 'Pinner', 'NCL': 675, 'FloodRisk1000a': 0.0699, 'BetweenCent': 259.0, 'coords': [51.5926, -0.3805]}),\n",
       " igraph.Vertex(<igraph.Graph object at 0x108928318>, 206, {'name': 'Northwood Hills', 'NCL': 662, 'FloodRisk1000a': 0.0264, 'BetweenCent': 11.0, 'coords': [51.6004, -0.4092]}),\n",
       " igraph.Vertex(<igraph.Graph object at 0x108928318>, 207, {'name': 'Northwood', 'NCL': 661, 'FloodRisk1000a': 0.0358, 'BetweenCent': 280.0, 'coords': [51.6111, -0.424]}),\n",
       " igraph.Vertex(<igraph.Graph object at 0x108928318>, 208, {'name': 'Moor Park', 'NCL': 646, 'FloodRisk1000a': 0.3117, 'BetweenCent': 4429.0, 'coords': [51.6294, -0.43200000000000005]}),\n",
       " igraph.Vertex(<igraph.Graph object at 0x108928318>, 209, {'name': 'Croxley', 'NCL': 554, 'FloodRisk1000a': 0.0145, 'BetweenCent': 532.0, 'coords': [51.647, -0.4412]}),\n",
       " igraph.Vertex(<igraph.Graph object at 0x108928318>, 210, {'name': 'Watford', 'NCL': 748, 'FloodRisk1000a': 0.0337, 'BetweenCent': 0.0, 'coords': [51.6573, -0.4177]}),\n",
       " igraph.Vertex(<igraph.Graph object at 0x108928318>, 211, {'name': 'Rickmansworth', 'NCL': 687, 'FloodRisk1000a': 0.0499, 'BetweenCent': 2104.0, 'coords': [51.6404, -0.4733]}),\n",
       " igraph.Vertex(<igraph.Graph object at 0x108928318>, 212, {'name': 'Chorleywood', 'NCL': 546, 'FloodRisk1000a': 0.0991, 'BetweenCent': 1584.0, 'coords': [51.6543, -0.5183]}),\n",
       " igraph.Vertex(<igraph.Graph object at 0x108928318>, 213, {'name': 'Chalfont & Latimer', 'NCL': 539, 'FloodRisk1000a': 0.2249, 'BetweenCent': 1062.0, 'coords': [51.6679, -0.561]}),\n",
       " igraph.Vertex(<igraph.Graph object at 0x108928318>, 214, {'name': 'Chesham', 'NCL': 543, 'FloodRisk1000a': 0.2435, 'BetweenCent': 0.0, 'coords': [51.7052, -0.611]}),\n",
       " igraph.Vertex(<igraph.Graph object at 0x108928318>, 215, {'name': 'Amersham', 'NCL': 506, 'FloodRisk1000a': 0.0228, 'BetweenCent': 0.0, 'coords': [51.6736, -0.607]}),\n",
       " igraph.Vertex(<igraph.Graph object at 0x108928318>, 216, {'name': 'Hammersmith (H&C)', 'NCL': 773, 'FloodRisk1000a': 0.0846, 'BetweenCent': 0.0, 'coords': [51.4936, -0.2251]}),\n",
       " igraph.Vertex(<igraph.Graph object at 0x108928318>, 217, {'name': 'Goldhawk Road', 'NCL': 585, 'FloodRisk1000a': 0.2293, 'BetweenCent': 532.0, 'coords': [51.5018, -0.2267]}),\n",
       " igraph.Vertex(<igraph.Graph object at 0x108928318>, 218, {'name': \"Shepherd's Bush Market\", 'NCL': 775, 'FloodRisk1000a': 0.1094, 'BetweenCent': 1060.0, 'coords': [51.5046, -0.2187]}),\n",
       " igraph.Vertex(<igraph.Graph object at 0x108928318>, 219, {'name': 'Wood Lane', 'NCL': 599, 'FloodRisk1000a': 0.1984, 'BetweenCent': 1584.0, 'coords': [51.512, -0.2239]}),\n",
       " igraph.Vertex(<igraph.Graph object at 0x108928318>, 220, {'name': 'Latimer Road', 'NCL': 630, 'FloodRisk1000a': 0.2896, 'BetweenCent': 2104.0, 'coords': [51.5139, -0.2172]}),\n",
       " igraph.Vertex(<igraph.Graph object at 0x108928318>, 221, {'name': 'Ladbroke Grove', 'NCL': 627, 'FloodRisk1000a': 0.2063, 'BetweenCent': 2620.0, 'coords': [51.5172, -0.2107]}),\n",
       " igraph.Vertex(<igraph.Graph object at 0x108928318>, 222, {'name': 'Westbourne Park', 'NCL': 754, 'FloodRisk1000a': 0.3268, 'BetweenCent': 3132.0, 'coords': [51.521, -0.2011]}),\n",
       " igraph.Vertex(<igraph.Graph object at 0x108928318>, 223, {'name': 'Royal Oak', 'NCL': 690, 'FloodRisk1000a': 0.1355, 'BetweenCent': 3640.0, 'coords': [51.519, -0.188]}),\n",
       " igraph.Vertex(<igraph.Graph object at 0x108928318>, 224, {'name': 'Edgware Road (Cir)', 'NCL': 569, 'FloodRisk1000a': 0.2318, 'BetweenCent': 13262.678564162112, 'coords': [51.5203, -0.17]}),\n",
       " igraph.Vertex(<igraph.Graph object at 0x108928318>, 225, {'name': 'Aldgate East', 'NCL': 503, 'FloodRisk1000a': 0.0175, 'BetweenCent': 867.5389305941036, 'coords': [51.5154, -0.0726]}),\n",
       " igraph.Vertex(<igraph.Graph object at 0x108928318>, 226, {'name': 'Whitechapel', 'NCL': 763, 'FloodRisk1000a': 0.0577, 'BetweenCent': 481.9355117906839, 'coords': [51.5194, -0.0612]}),\n",
       " igraph.Vertex(<igraph.Graph object at 0x108928318>, 227, {'name': 'Stepney Green', 'NCL': 715, 'FloodRisk1000a': 0.0775, 'BetweenCent': 195.62735042735036, 'coords': [51.5221, -0.047]}),\n",
       " igraph.Vertex(<igraph.Graph object at 0x108928318>, 228, {'name': 'Bow Road', 'NCL': 528, 'FloodRisk1000a': 0.0121, 'BetweenCent': 454.0, 'coords': [51.5269, -0.0247]}),\n",
       " igraph.Vertex(<igraph.Graph object at 0x108928318>, 229, {'name': 'Bromley-by-Bow', 'NCL': 530, 'FloodRisk1000a': 0.0408, 'BetweenCent': 34.0, 'coords': [51.5248, -0.0119]}),\n",
       " igraph.Vertex(<igraph.Graph object at 0x108928318>, 230, {'name': 'Plaistow', 'NCL': 676, 'FloodRisk1000a': 0.0858, 'BetweenCent': 5632.0, 'coords': [51.5313, 0.0172]}),\n",
       " igraph.Vertex(<igraph.Graph object at 0x108928318>, 231, {'name': 'Upton Park', 'NCL': 739, 'FloodRisk1000a': 0.0552, 'BetweenCent': 5140.0, 'coords': [51.5352, 0.0343]}),\n",
       " igraph.Vertex(<igraph.Graph object at 0x108928318>, 232, {'name': 'East Ham', 'NCL': 566, 'FloodRisk1000a': 0.0257, 'BetweenCent': 4644.0, 'coords': [51.5394, 0.0518]}),\n",
       " igraph.Vertex(<igraph.Graph object at 0x108928318>, 233, {'name': 'Barking', 'NCL': 514, 'FloodRisk1000a': 0.0577, 'BetweenCent': 4144.0, 'coords': [51.5396, 0.081]}),\n",
       " igraph.Vertex(<igraph.Graph object at 0x108928318>, 234, {'name': 'Bayswater', 'NCL': 517, 'FloodRisk1000a': 0.0191, 'BetweenCent': 7573.046782935209, 'coords': [51.5121, -0.1879]}),\n",
       " igraph.Vertex(<igraph.Graph object at 0x108928318>, 235, {'name': 'High Street Kensington', 'NCL': 605, 'FloodRisk1000a': 0.0596, 'BetweenCent': 6198.0041680164695, 'coords': [51.5009, -0.1925]}),\n",
       " igraph.Vertex(<igraph.Graph object at 0x108928318>, 236, {'name': 'Sloane Square', 'NCL': 702, 'FloodRisk1000a': 0.2351, 'BetweenCent': 9318.360130364372, 'coords': [51.4924, -0.1565]}),\n",
       " igraph.Vertex(<igraph.Graph object at 0x108928318>, 237, {'name': \"St. James's Park\", 'NCL': 695, 'FloodRisk1000a': 0.086, 'BetweenCent': 4395.560109507192, 'coords': [51.4994, -0.1335]}),\n",
       " igraph.Vertex(<igraph.Graph object at 0x108928318>, 238, {'name': 'Temple', 'NCL': 724, 'FloodRisk1000a': 0.0538, 'BetweenCent': 600.283436027546, 'coords': [51.5111, -0.1141]}),\n",
       " igraph.Vertex(<igraph.Graph object at 0x108928318>, 239, {'name': 'Blackfriars', 'NCL': 521, 'FloodRisk1000a': 0.083, 'BetweenCent': 233.42322097378272, 'coords': [51.512, -0.1031]}),\n",
       " igraph.Vertex(<igraph.Graph object at 0x108928318>, 240, {'name': 'Mansion House', 'NCL': 639, 'FloodRisk1000a': 0.0, 'BetweenCent': 161.13978494623655, 'coords': [51.5122, -0.094]}),\n",
       " igraph.Vertex(<igraph.Graph object at 0x108928318>, 241, {'name': 'Cannon Street', 'NCL': 536, 'FloodRisk1000a': 0.0, 'BetweenCent': 455.716563972453, 'coords': [51.5113, -0.0904]}),\n",
       " igraph.Vertex(<igraph.Graph object at 0x108928318>, 242, {'name': 'Tower Hill', 'NCL': 731, 'FloodRisk1000a': 0.0231, 'BetweenCent': 828.4358765734332, 'coords': [51.5098, -0.0766]}),\n",
       " igraph.Vertex(<igraph.Graph object at 0x108928318>, 243, {'name': 'Upminster', 'NCL': 736, 'FloodRisk1000a': 0.1047, 'BetweenCent': 0.0, 'coords': [51.559, 0.251]}),\n",
       " igraph.Vertex(<igraph.Graph object at 0x108928318>, 244, {'name': 'Upminster Bridge', 'NCL': 737, 'FloodRisk1000a': 0.1283, 'BetweenCent': 532.0, 'coords': [51.5582, 0.2343]}),\n",
       " igraph.Vertex(<igraph.Graph object at 0x108928318>, 245, {'name': 'Hornchurch', 'NCL': 610, 'FloodRisk1000a': 0.1269, 'BetweenCent': 1060.0, 'coords': [51.5539, 0.2184]}),\n",
       " igraph.Vertex(<igraph.Graph object at 0x108928318>, 246, {'name': 'Elm Park', 'NCL': 571, 'FloodRisk1000a': 0.2879, 'BetweenCent': 1584.0, 'coords': [51.5496, 0.1977]}),\n",
       " igraph.Vertex(<igraph.Graph object at 0x108928318>, 247, {'name': 'Dagenham East', 'NCL': 555, 'FloodRisk1000a': 0.0614, 'BetweenCent': 2104.0, 'coords': [51.5443, 0.1655]}),\n",
       " igraph.Vertex(<igraph.Graph object at 0x108928318>, 248, {'name': 'Dagenham Heathway', 'NCL': 556, 'FloodRisk1000a': 0.0427, 'BetweenCent': 2620.0, 'coords': [51.5417, 0.1469]}),\n",
       " igraph.Vertex(<igraph.Graph object at 0x108928318>, 249, {'name': 'Becontree', 'NCL': 518, 'FloodRisk1000a': 0.0625, 'BetweenCent': 3132.0, 'coords': [51.5403, 0.127]}),\n",
       " igraph.Vertex(<igraph.Graph object at 0x108928318>, 250, {'name': 'Upney', 'NCL': 738, 'FloodRisk1000a': 0.0059, 'BetweenCent': 3640.0, 'coords': [51.5385, 0.1014]}),\n",
       " igraph.Vertex(<igraph.Graph object at 0x108928318>, 251, {'name': 'Kensington (Olympia)', 'NCL': 618, 'FloodRisk1000a': 0.3343, 'BetweenCent': 0.0, 'coords': [51.4975, -0.2099]}),\n",
       " igraph.Vertex(<igraph.Graph object at 0x108928318>, 252, {'name': 'West Brompton', 'NCL': 755, 'FloodRisk1000a': 0.29, 'BetweenCent': 3640.0, 'coords': [51.4872, -0.1953]}),\n",
       " igraph.Vertex(<igraph.Graph object at 0x108928318>, 253, {'name': 'Fulham Broadway', 'NCL': 581, 'FloodRisk1000a': 0.0493, 'BetweenCent': 3132.0, 'coords': [51.4804, -0.195]}),\n",
       " igraph.Vertex(<igraph.Graph object at 0x108928318>, 254, {'name': 'Parsons Green', 'NCL': 672, 'FloodRisk1000a': 0.1611, 'BetweenCent': 2620.0, 'coords': [51.4753, -0.2011]}),\n",
       " igraph.Vertex(<igraph.Graph object at 0x108928318>, 255, {'name': 'Putney Bridge', 'NCL': 678, 'FloodRisk1000a': 0.1772, 'BetweenCent': 2104.0, 'coords': [51.4682, -0.2089]}),\n",
       " igraph.Vertex(<igraph.Graph object at 0x108928318>, 256, {'name': 'East Putney', 'NCL': 567, 'FloodRisk1000a': 0.1764, 'BetweenCent': 1584.0, 'coords': [51.4586, -0.2112]}),\n",
       " igraph.Vertex(<igraph.Graph object at 0x108928318>, 257, {'name': 'Southfields', 'NCL': 705, 'FloodRisk1000a': 0.0888, 'BetweenCent': 1060.0, 'coords': [51.4454, -0.2066]}),\n",
       " igraph.Vertex(<igraph.Graph object at 0x108928318>, 258, {'name': 'Wimbledon Park', 'NCL': 768, 'FloodRisk1000a': 0.0859, 'BetweenCent': 532.0, 'coords': [51.4343, -0.1992]}),\n",
       " igraph.Vertex(<igraph.Graph object at 0x108928318>, 259, {'name': 'Wimbledon', 'NCL': 767, 'FloodRisk1000a': 0.1632, 'BetweenCent': 0.0, 'coords': [51.4214, -0.2064]}),\n",
       " igraph.Vertex(<igraph.Graph object at 0x108928318>, 260, {'name': 'West Kensington', 'NCL': 760, 'FloodRisk1000a': 0.2671, 'BetweenCent': 0.0, 'coords': [51.4907, -0.2065]}),\n",
       " igraph.Vertex(<igraph.Graph object at 0x108928318>, 261, {'name': 'Ravenscourt Park', 'NCL': 682, 'FloodRisk1000a': 0.2873, 'BetweenCent': 1314.658762886598, 'coords': [51.4942, -0.2359]}),\n",
       " igraph.Vertex(<igraph.Graph object at 0x108928318>, 262, {'name': 'Stamford Brook', 'NCL': 713, 'FloodRisk1000a': 0.0808, 'BetweenCent': 840.1587628865981, 'coords': [51.495, -0.2459]}),\n",
       " igraph.Vertex(<igraph.Graph object at 0x108928318>, 263, {'name': 'Turnham Green', 'NCL': 734, 'FloodRisk1000a': 0.0401, 'BetweenCent': 1625.5, 'coords': [51.4951, -0.2547]}),\n",
       " igraph.Vertex(<igraph.Graph object at 0x108928318>, 264, {'name': 'Chiswick Park', 'NCL': 545, 'FloodRisk1000a': 0.0785, 'BetweenCent': 1295.341237113402, 'coords': [51.4946, -0.2678]}),\n",
       " igraph.Vertex(<igraph.Graph object at 0x108928318>, 265, {'name': 'Gunnersbury', 'NCL': 591, 'FloodRisk1000a': 0.0526, 'BetweenCent': 1060.0, 'coords': [51.4915, -0.2754]}),\n",
       " igraph.Vertex(<igraph.Graph object at 0x108928318>, 266, {'name': 'Kew Gardens', 'NCL': 621, 'FloodRisk1000a': 0.0, 'BetweenCent': 532.0, 'coords': [51.477, -0.285]}),\n",
       " igraph.Vertex(<igraph.Graph object at 0x108928318>, 267, {'name': 'Richmond', 'NCL': 686, 'FloodRisk1000a': 0.1461, 'BetweenCent': 0.0, 'coords': [51.4633, -0.3013]})]"
      ]
     },
     "execution_count": 24,
     "metadata": {},
     "output_type": "execute_result"
    }
   ],
   "source": [
    "# Add attributes to nodes: NCL code, flood risk and coordinates\n",
    "\n",
    "df2 = pd.read_csv(\"Data/InputData_Stations.csv\")\n",
    "attributes = np.asarray(df2[['Name (RODS)','NLC','FloodRisk1000a','Lat','Long']])\n",
    "for station in attributes:\n",
    "    try:\n",
    "        vs = ptn.vs.find(name=station[0])\n",
    "        vs['BetweenCent'] = ptn.betweenness(vs, directed=True)\n",
    "        vs['NCL'] = station[1]\n",
    "        vs['FloodRisk1000a'] = station[2]\n",
    "        vs['coords'] = list(station[3:5])\n",
    "    except ValueError:\n",
    "        print(station[0], ' - not found!')\n",
    "\n",
    "list(ptn.vs)"
   ]
  },
  {
   "cell_type": "code",
   "execution_count": 25,
   "metadata": {
    "collapsed": false,
    "scrolled": true
   },
   "outputs": [
    {
     "data": {
      "text/plain": [
       "array([[ 0.    ,  0.2161,  0.2201, ...,  0.0654,  0.4184,  0.2096],\n",
       "       [ 0.2161,  0.    ,  0.004 , ...,  0.1507,  0.2023,  0.2137],\n",
       "       [ 0.2201,  0.004 ,  0.    , ...,  0.1547,  0.1983,  0.2155],\n",
       "       ..., \n",
       "       [ 0.0654,  0.1507,  0.1547, ...,  0.    ,  0.353 ,  0.1442],\n",
       "       [ 0.4184,  0.2023,  0.1983, ...,  0.353 ,  0.    ,  0.2306],\n",
       "       [ 0.2096,  0.2137,  0.2155, ...,  0.1442,  0.2306,  0.    ]])"
      ]
     },
     "execution_count": 25,
     "metadata": {},
     "output_type": "execute_result"
    }
   ],
   "source": [
    "# edge = ptn.es.select(_source_eq=1, _target_eq=2)\n",
    "\n",
    "dist_matrix = cdist(attributes[:,3:5], attributes[:,3:5], 'cityblock')\n",
    "dist_matrix"
   ]
  },
  {
   "cell_type": "code",
   "execution_count": 37,
   "metadata": {
    "collapsed": false
   },
   "outputs": [
    {
     "data": {
      "text/plain": [
       "[igraph.Vertex(<igraph.Graph object at 0x1164fc318>, 100, {'FloodRisk1000a': 0.0, 'name': \"St. John's Wood\", 'coords': [51.5347, -0.174], 'NCL': 696})]"
      ]
     },
     "execution_count": 37,
     "metadata": {},
     "output_type": "execute_result"
    }
   ],
   "source": [
    "node = ptn.vs(100)\n",
    "list(node)"
   ]
  },
  {
   "cell_type": "code",
   "execution_count": 60,
   "metadata": {
    "collapsed": false
   },
   "outputs": [
    {
     "data": {
      "text/plain": [
       "[]"
      ]
     },
     "execution_count": 60,
     "metadata": {},
     "output_type": "execute_result"
    }
   ],
   "source": [
    "# sel = ptn.vs.select(NCL=501)\n",
    "# list(sel)\n",
    "\n",
    "edge = ptn.es.select(_source_eq=163, _target_eq=196)\n",
    "list(edge)"
   ]
  },
  {
   "cell_type": "markdown",
   "metadata": {},
   "source": [
    "**Create target list by floooding**"
   ]
  },
  {
   "cell_type": "code",
   "execution_count": 6,
   "metadata": {
    "collapsed": false
   },
   "outputs": [
    {
     "data": {
      "text/plain": [
       "['BARONS COURT',\n",
       " 'BOND STREET',\n",
       " 'BURNT OAK',\n",
       " 'KENSINGTON (OLYMPIA)',\n",
       " 'LANCASTER GATE',\n",
       " 'MOOR PARK',\n",
       " 'NEASDEN',\n",
       " 'SOUTH KENTON',\n",
       " 'THEYDON BOIS',\n",
       " 'WESTBOURNE PARK']"
      ]
     },
     "execution_count": 6,
     "metadata": {},
     "output_type": "execute_result"
    }
   ],
   "source": [
    "# Process used during dacas meeting, will be replaced by vertex probaility\n",
    "df3 = pd.read_csv(\"Data/InputData_Stations.csv\")\n",
    "flood = df3[['name','FloodRisk1000a']]\n",
    "threshold = flood['name'][flood.FloodRisk1000a > 0.3]\n",
    "targets = []\n",
    "\n",
    "for i in threshold:\n",
    "    targets.append(i)\n",
    "\n",
    "ptn2 = ptn\n",
    "targets"
   ]
  },
  {
   "cell_type": "code",
   "execution_count": 7,
   "metadata": {
    "collapsed": true
   },
   "outputs": [],
   "source": [
    "# Proting function\n",
    "\n",
    "def plot_hist(tup, target):\n",
    "    sns.set(context=\"notebook\", font_scale=1.2)\n",
    "    plt.figure(facecolor=\"white\", figsize=(9, 6), dpi=300)\n",
    "    plt.xlabel('Path Length')\n",
    "    plt.ylabel('Frequency')\n",
    "    plt.title('Path Length distribution station: %s' % str(target))\n",
    "    plt.bar(*zip(*tup))"
   ]
  },
  {
   "cell_type": "code",
   "execution_count": 25,
   "metadata": {
    "collapsed": false
   },
   "outputs": [
    {
     "data": {
      "text/plain": [
       "[igraph.Edge(<igraph.Graph object at 0x1164fc318>, 1, {'line': 'Bakerloo  Southbound: Kenton to South Kenton'}),\n",
       " igraph.Edge(<igraph.Graph object at 0x1164fc318>, 47, {'line': 'Bakerloo  Northbound: Kenton to Harrow & Wealdstone'})]"
      ]
     },
     "execution_count": 25,
     "metadata": {},
     "output_type": "execute_result"
    }
   ],
   "source": [
    "# Add flow to links\n",
    "coords = np.asarray(df2[['Name (RODS)','Lat','Long']])\n",
    "for station in coords:\n",
    "#     print(station[1:3])\n",
    "    try:\n",
    "        vs = ptn.vs.find(name=station[0])\n",
    "        vs['coords'] = list(station[1:3])\n",
    "    except ValueError:\n",
    "        print(station[0], ' - not found!')\n",
    "\n",
    "edge = ptn.es.select(_source_in = [1])\n",
    "list(edge)"
   ]
  },
  {
   "cell_type": "markdown",
   "metadata": {},
   "source": [
    "**Delete nodes based on Flood Risk**"
   ]
  },
  {
   "cell_type": "code",
   "execution_count": 67,
   "metadata": {
    "collapsed": false,
    "scrolled": false
   },
   "outputs": [
    {
     "ename": "ValueError",
     "evalue": "no such vertex: 'BARONS COURT'",
     "output_type": "error",
     "traceback": [
      "\u001b[0;31m---------------------------------------------------------------------------\u001b[0m",
      "\u001b[0;31mValueError\u001b[0m                                Traceback (most recent call last)",
      "\u001b[0;32m<ipython-input-67-65e884c25c8d>\u001b[0m in \u001b[0;36m<module>\u001b[0;34m()\u001b[0m\n\u001b[1;32m     10\u001b[0m     \u001b[0mplot_hist\u001b[0m\u001b[0;34m(\u001b[0m\u001b[0mhist_orig\u001b[0m\u001b[0;34m,\u001b[0m \u001b[0mi\u001b[0m \u001b[0;34m+\u001b[0m \u001b[0mstr\u001b[0m\u001b[0;34m(\u001b[0m\u001b[0;34m' original'\u001b[0m\u001b[0;34m)\u001b[0m\u001b[0;34m)\u001b[0m\u001b[0;34m\u001b[0m\u001b[0m\n\u001b[1;32m     11\u001b[0m \u001b[0;34m\u001b[0m\u001b[0m\n\u001b[0;32m---> 12\u001b[0;31m     \u001b[0mptn\u001b[0m\u001b[0;34m.\u001b[0m\u001b[0mdelete_vertices\u001b[0m\u001b[0;34m(\u001b[0m\u001b[0mptn\u001b[0m\u001b[0;34m.\u001b[0m\u001b[0mvs\u001b[0m\u001b[0;34m.\u001b[0m\u001b[0mfind\u001b[0m\u001b[0;34m(\u001b[0m\u001b[0mname\u001b[0m\u001b[0;34m=\u001b[0m\u001b[0mi\u001b[0m\u001b[0;34m)\u001b[0m\u001b[0;34m)\u001b[0m\u001b[0;34m\u001b[0m\u001b[0m\n\u001b[0m\u001b[1;32m     13\u001b[0m     \u001b[0mpath_hist_dell\u001b[0m \u001b[0;34m=\u001b[0m \u001b[0mlist\u001b[0m\u001b[0;34m(\u001b[0m\u001b[0mptn\u001b[0m\u001b[0;34m.\u001b[0m\u001b[0mpath_length_hist\u001b[0m\u001b[0;34m(\u001b[0m\u001b[0mdirected\u001b[0m\u001b[0;34m=\u001b[0m\u001b[0;32mTrue\u001b[0m\u001b[0;34m)\u001b[0m\u001b[0;34m.\u001b[0m\u001b[0mbins\u001b[0m\u001b[0;34m(\u001b[0m\u001b[0;34m)\u001b[0m\u001b[0;34m)\u001b[0m\u001b[0;34m\u001b[0m\u001b[0m\n\u001b[1;32m     14\u001b[0m     \u001b[0mhist_dell\u001b[0m \u001b[0;34m=\u001b[0m \u001b[0;34m[\u001b[0m\u001b[0;34m]\u001b[0m\u001b[0;34m\u001b[0m\u001b[0m\n",
      "\u001b[0;32m/usr/local/lib/python3.5/site-packages/igraph/__init__.py\u001b[0m in \u001b[0;36mfind\u001b[0;34m(self, *args, **kwds)\u001b[0m\n\u001b[1;32m   3359\u001b[0m             \u001b[0;31m# Selecting first based on positional arguments, then checking\u001b[0m\u001b[0;34m\u001b[0m\u001b[0;34m\u001b[0m\u001b[0m\n\u001b[1;32m   3360\u001b[0m             \u001b[0;31m# the criteria specified by the (remaining) keyword arguments\u001b[0m\u001b[0;34m\u001b[0m\u001b[0;34m\u001b[0m\u001b[0m\n\u001b[0;32m-> 3361\u001b[0;31m             \u001b[0mvertex\u001b[0m \u001b[0;34m=\u001b[0m \u001b[0m_igraph\u001b[0m\u001b[0;34m.\u001b[0m\u001b[0mVertexSeq\u001b[0m\u001b[0;34m.\u001b[0m\u001b[0mfind\u001b[0m\u001b[0;34m(\u001b[0m\u001b[0mself\u001b[0m\u001b[0;34m,\u001b[0m \u001b[0;34m*\u001b[0m\u001b[0margs\u001b[0m\u001b[0;34m)\u001b[0m\u001b[0;34m\u001b[0m\u001b[0m\n\u001b[0m\u001b[1;32m   3362\u001b[0m             \u001b[0;32mif\u001b[0m \u001b[0;32mnot\u001b[0m \u001b[0mkwds\u001b[0m\u001b[0;34m:\u001b[0m\u001b[0;34m\u001b[0m\u001b[0m\n\u001b[1;32m   3363\u001b[0m                 \u001b[0;32mreturn\u001b[0m \u001b[0mvertex\u001b[0m\u001b[0;34m\u001b[0m\u001b[0m\n",
      "\u001b[0;31mValueError\u001b[0m: no such vertex: 'BARONS COURT'"
     ]
    },
    {
     "data": {
      "image/png": "[encoded data removed]",
      "text/plain": [
       "<matplotlib.figure.Figure at 0x11355f128>"
      ]
     },
     "metadata": {},
     "output_type": "display_data"
    }
   ],
   "source": [
    "% matplotlib inline\n",
    "\n",
    "for i in targets:\n",
    "    path_hist_orig = list(ptn.path_length_hist(directed=True).bins())\n",
    "    hist_orig = []\n",
    "    for bin1 in path_hist_orig:\n",
    "        x1 = bin1[0]\n",
    "        y1 = bin1[2]\n",
    "        hist_orig.append((x1,y1))\n",
    "    plot_hist(hist_orig, i + str(' original'))\n",
    "\n",
    "    ptn.delete_vertices(ptn.vs.find(name=i))\n",
    "    path_hist_dell = list(ptn.path_length_hist(directed=True).bins())\n",
    "    hist_dell = []\n",
    "    for bin2 in path_hist_dell:\n",
    "        x2 = bin2[0]\n",
    "        y2 = bin2[2]\n",
    "        hist_dell.append((x2,y2))\n",
    "    \n",
    "    plot_hist(hist_dell, 'Damaged')"
   ]
  },
  {
   "cell_type": "markdown",
   "metadata": {},
   "source": [
    "**Delete nodes based on Betweeness Centrality**"
   ]
  },
  {
   "cell_type": "code",
   "execution_count": null,
   "metadata": {
    "collapsed": false
   },
   "outputs": [],
   "source": [
    "% matplotlib inline\n",
    "\n",
    "count = 0\n",
    "\n",
    "while count <= 10:\n",
    "    max_bc = max(ptn2.vs['beetw_cent'])\n",
    "    target = ptn2.vs(ptn2.vs['beetw_cent'] == max_bc)['name']\n",
    "    \n",
    "    path_hist_orig = list(ptn2.path_length_hist(directed=True).bins())\n",
    "    hist_orig = []\n",
    "    for bin1 in path_hist_orig:\n",
    "        x1 = bin1[0]\n",
    "        y1 = bin1[2]\n",
    "        hist_orig.append((x1,y1))\n",
    "    plot_hist(hist_orig, i + str(' original'))\n",
    "\n",
    "    ptn2.delete_vertices(ptn2.vs.find(name=i))\n",
    "    path_hist_dell = list(ptn2.path_length_hist(directed=True).bins())\n",
    "    hist_dell = []\n",
    "    for bin2 in path_hist_dell:\n",
    "        x2 = bin2[0]\n",
    "        y2 = bin2[2]\n",
    "        hist_dell.append((x2,y2))\n",
    "    plot_hist(hist_dell, 'Damaged')\n",
    "    \n",
    "    count += 1"
   ]
  },
  {
   "cell_type": "code",
   "execution_count": null,
   "metadata": {
    "collapsed": false
   },
   "outputs": [],
   "source": [
    "# Ploting function\n",
    "# % matplotlibe inline\n",
    "# layout = ptn.layout_kamada_kawai()\n",
    "# plot(ptn, layout = layout)"
   ]
  }
 ],
 "metadata": {
  "kernelspec": {
   "display_name": "Python 3",
   "language": "python",
   "name": "python3"
  },
  "language_info": {
   "codemirror_mode": {
    "name": "ipython",
    "version": 3
   },
   "file_extension": ".py",
   "mimetype": "text/x-python",
   "name": "python",
   "nbconvert_exporter": "python",
   "pygments_lexer": "ipython3",
   "version": "3.5.1"
  }
 },
 "nbformat": 4,
 "nbformat_minor": 0
}
